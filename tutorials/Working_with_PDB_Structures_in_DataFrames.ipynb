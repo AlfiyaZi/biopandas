{
 "cells": [
  {
   "cell_type": "markdown",
   "metadata": {},
   "source": [
    "BioPandas\n",
    "\n",
    "Author: Sebastian Raschka <mail@sebastianraschka.com>  \n",
    "License: BSD 3 clause  \n",
    "Project Website: http://rasbt.github.io/biopandas/  \n",
    "Code Repository: https://github.com/rasbt/biopandas  "
   ]
  },
  {
   "cell_type": "code",
   "execution_count": 1,
   "metadata": {
    "collapsed": false
   },
   "outputs": [
    {
     "name": "stdout",
     "output_type": "stream",
     "text": [
      "Last updated: 11/23/2015 \n",
      "\n",
      "CPython 3.5.0\n",
      "IPython 4.0.0\n",
      "\n",
      "pandas 0.17.1\n",
      "biopandas 0.1.3\n"
     ]
    }
   ],
   "source": [
    "%load_ext watermark\n",
    "%watermark -d -u -v -p pandas,biopandas"
   ]
  },
  {
   "cell_type": "code",
   "execution_count": 6,
   "metadata": {
    "collapsed": true
   },
   "outputs": [],
   "source": [
    "from biopandas.pdb import PandasPDB\n",
    "import pandas as pd\n",
    "pd.set_option('display.width', 600)\n",
    "pd.set_option('display.max_columns', 8)"
   ]
  },
  {
   "cell_type": "markdown",
   "metadata": {},
   "source": [
    "# Working with PDB Structures in DataFrames"
   ]
  },
  {
   "cell_type": "markdown",
   "metadata": {},
   "source": [
    "## Loading PDB Files"
   ]
  },
  {
   "cell_type": "markdown",
   "metadata": {},
   "source": [
    "There are 2 1/2 ways to load a PDB structure into a `PandasPDB` object.\n"
   ]
  },
  {
   "cell_type": "markdown",
   "metadata": {},
   "source": [
    "#### 1\n",
    "PDB files can be directly fetched from The Protein Data Bank at [http://www.rcsb.org](http://www.rcsb.org) via its unique 4-letter after initializing a new [`PandasPDB`](../api/biopandas.pdb#pandaspdb) object and calling the [`fetch_pdb`](../api/biopandas.pdb#pandaspdbfetch_pdb) method:"
   ]
  },
  {
   "cell_type": "code",
   "execution_count": 3,
   "metadata": {
    "collapsed": false
   },
   "outputs": [],
   "source": [
    "from biopandas.pdb import PandasPDB\n",
    "\n",
    "# Initialize a new PandasPDB object\n",
    "# and fetch the PDB file from rcsb.org\n",
    "ppdb = PandasPDB().fetch_pdb('3eiy')"
   ]
  },
  {
   "cell_type": "markdown",
   "metadata": {},
   "source": [
    "#### 2 a)\n",
    "\n",
    "Alternatively, we can load PDB files from local directories as regular PDB files using [`read_pdb`](../api/biopandas.pdb#pandaspdbread_pdb):"
   ]
  },
  {
   "cell_type": "code",
   "execution_count": 4,
   "metadata": {
    "collapsed": false
   },
   "outputs": [
    {
     "data": {
      "text/plain": [
       "<biopandas.pdb.pandas_pdb.PandasPDB at 0x104085ba8>"
      ]
     },
     "execution_count": 4,
     "metadata": {},
     "output_type": "execute_result"
    }
   ],
   "source": [
    "ppdb.read_pdb('./data/3eiy.pdb')"
   ]
  },
  {
   "cell_type": "markdown",
   "metadata": {},
   "source": [
    "#### 2 b)\n",
    "\n",
    "Or, we can load them from gzip archives like so (note that the file must end with a '.gz' suffix in order to be recognized as a gzip file):"
   ]
  },
  {
   "cell_type": "code",
   "execution_count": 5,
   "metadata": {
    "collapsed": false
   },
   "outputs": [
    {
     "data": {
      "text/plain": [
       "<biopandas.pdb.pandas_pdb.PandasPDB at 0x104085ba8>"
      ]
     },
     "execution_count": 5,
     "metadata": {},
     "output_type": "execute_result"
    }
   ],
   "source": [
    "ppdb.read_pdb('./data/3eiy.pdb.gz')"
   ]
  },
  {
   "cell_type": "markdown",
   "metadata": {},
   "source": [
    "After the file was succesfully loaded, we have access to the following attributes:"
   ]
  },
  {
   "cell_type": "code",
   "execution_count": 6,
   "metadata": {
    "collapsed": false
   },
   "outputs": [
    {
     "name": "stdout",
     "output_type": "stream",
     "text": [
      "PDB Code: 3eiy\n",
      "PDB Header Line:     HYDROLASE                               17-SEP-08   3EIY\n",
      "\n",
      "Raw PDB file contents:\n",
      "\n",
      "HEADER    HYDROLASE                               17-SEP-08   3EIY              \n",
      "TITLE     CRYSTAL STRUCTURE OF INORGANIC PYROPHOSPHATASE FROM BURKHOLDERIA      \n",
      "TITLE    2 PSEUDOMALLEI WITH BOUND PYROPHOSPHATE                                \n",
      "COMPND    MOL_ID: 1;                                                            \n",
      "COMPND   2 MOLECULE: INORGANIC PYROPHOSPHATASE;                                 \n",
      "COMPND   3 CHAIN: A;                                                            \n",
      "COMPND   4 EC: 3.6.1.1;                                                         \n",
      "COMPND   5 ENGINEERED: YES                                                      \n",
      "SOURCE    MOL_ID: 1;                                                            \n",
      "SOURCE   2 ORGANISM_SCIENTIFIC: BURKHOLDERIA PSEUDOMALLEI 1710B;                \n",
      "SOURCE   3 ORGANISM_TAXID: 320372;                                              \n",
      "SOURCE   4 GENE: PPA, BURPS1710B_1237;                                          \n",
      "SOURCE   5 EXPRESSION_SYSTEM\n",
      "...\n"
     ]
    }
   ],
   "source": [
    "print('PDB Code: %s' % ppdb.code)\n",
    "print('PDB Header Line: %s' % ppdb.header)\n",
    "print('\\nRaw PDB file contents:\\n\\n%s\\n...' % ppdb.pdb_text[:1000])"
   ]
  },
  {
   "cell_type": "markdown",
   "metadata": {},
   "source": [
    "The most interesting / useful attribute is the [`PandasPDB.df`](../api/biopandas.pdb#pandaspdbdf) DataFrame dictionary though, which gives us access to the PDB files as pandas DataFrames. Let's print the first 3 lines from the `ATOM` coordinate section to see how it looks like:"
   ]
  },
  {
   "cell_type": "code",
   "execution_count": 7,
   "metadata": {
    "collapsed": false
   },
   "outputs": [
    {
     "data": {
      "text/html": [
       "<div>\n",
       "<table border=\"1\" class=\"dataframe\">\n",
       "  <thead>\n",
       "    <tr style=\"text-align: right;\">\n",
       "      <th></th>\n",
       "      <th>record_name</th>\n",
       "      <th>atom_number</th>\n",
       "      <th>blank_1</th>\n",
       "      <th>atom_name</th>\n",
       "      <th>...</th>\n",
       "      <th>segment_id</th>\n",
       "      <th>element_symbol</th>\n",
       "      <th>charge</th>\n",
       "      <th>line_idx</th>\n",
       "    </tr>\n",
       "  </thead>\n",
       "  <tbody>\n",
       "    <tr>\n",
       "      <th>0</th>\n",
       "      <td>ATOM</td>\n",
       "      <td>1</td>\n",
       "      <td></td>\n",
       "      <td>N</td>\n",
       "      <td>...</td>\n",
       "      <td></td>\n",
       "      <td>N</td>\n",
       "      <td>NaN</td>\n",
       "      <td>609</td>\n",
       "    </tr>\n",
       "    <tr>\n",
       "      <th>1</th>\n",
       "      <td>ATOM</td>\n",
       "      <td>2</td>\n",
       "      <td></td>\n",
       "      <td>CA</td>\n",
       "      <td>...</td>\n",
       "      <td></td>\n",
       "      <td>C</td>\n",
       "      <td>NaN</td>\n",
       "      <td>610</td>\n",
       "    </tr>\n",
       "    <tr>\n",
       "      <th>2</th>\n",
       "      <td>ATOM</td>\n",
       "      <td>3</td>\n",
       "      <td></td>\n",
       "      <td>C</td>\n",
       "      <td>...</td>\n",
       "      <td></td>\n",
       "      <td>C</td>\n",
       "      <td>NaN</td>\n",
       "      <td>611</td>\n",
       "    </tr>\n",
       "  </tbody>\n",
       "</table>\n",
       "<p>3 rows × 21 columns</p>\n",
       "</div>"
      ],
      "text/plain": [
       "  record_name  atom_number blank_1 atom_name   ...    segment_id element_symbol charge line_idx\n",
       "0        ATOM            1                 N   ...                            N    NaN      609\n",
       "1        ATOM            2                CA   ...                            C    NaN      610\n",
       "2        ATOM            3                 C   ...                            C    NaN      611\n",
       "\n",
       "[3 rows x 21 columns]"
      ]
     },
     "execution_count": 7,
     "metadata": {},
     "output_type": "execute_result"
    }
   ],
   "source": [
    "ppdb.df['ATOM'].head(3)"
   ]
  },
  {
   "cell_type": "markdown",
   "metadata": {},
   "source": [
    "But more on that in the next section."
   ]
  },
  {
   "cell_type": "markdown",
   "metadata": {},
   "source": [
    "## Looking at PDBs in DataFrames"
   ]
  },
  {
   "cell_type": "markdown",
   "metadata": {},
   "source": [
    "PDB files are parsed according to the [PDB file format description](http://www.rcsb.org/pdb/static.do?p=file_formats/pdb/index.html). More specifically, BioPandas reads the columns of the ATOM and HETATM sections as shown in the following excerpt from [http://deposit.rcsb.org/adit/docs/pdb_atom_format.html#ATOM](http://deposit.rcsb.org/adit/docs/pdb_atom_format.html#ATOM)."
   ]
  },
  {
   "cell_type": "markdown",
   "metadata": {},
   "source": [
    "| COLUMNS | DATA TYPE    | CONTENTS                                   | biopandas column name |\n",
    "|---------|--------------|--------------------------------------------|-----------------------|\n",
    "| 1 - 6   | Record name  | \"ATOM\"                                     | record_name           |\n",
    "| 7 - 11  | Integer      | Atom serial number.                        | atom_number           |\n",
    "| 12      |              |                                            | blank_1               |\n",
    "| 13 - 16 | Atom         | Atom name.                                 | atom_name             |\n",
    "| 17      | Character    | Alternate location indicator.              | alt_loc               |\n",
    "| 18 - 20 | Residue name | Residue name.                              | residue_name          |\n",
    "| 21      |              |                                            | blank_2               |\n",
    "| 22      | Character    | Chain identifier.                          | chain_id              |\n",
    "| 23 - 26 | Integer      | Residue sequence number.                   | residue_number        |\n",
    "| 27      | AChar        | Code for insertion of residues.            | insertion             |\n",
    "| 28 - 30 |              |                                            | blank_3               |\n",
    "| 31 - 38 | Real(8.3)    | Orthogonal coordinates for X in Angstroms. | x_coord               |\n",
    "| 39 - 46 | Real(8.3)    | Orthogonal coordinates for Y in Angstroms. | y_coord               |\n",
    "| 47 - 54 | Real(8.3)    | Orthogonal coordinates for Z in Angstroms. | z_coord               |\n",
    "| 55 - 60 | Real(6.2)    | Occupancy.                                 | occupancy             |\n",
    "| 61 - 66 | Real(6.2)    | Temperature factor (Default = 0.0).        | bfactor               |\n",
    "| 67-72   |              |                                            | blank_4               |\n",
    "| 73 - 76 | LString(4)   | Segment identifier, left-justified.        | segment_id            |\n",
    "| 77 - 78 | LString(2)   | Element symbol, right-justified.           | element_symbol        |\n",
    "| 79 - 80 | LString(2)   | Charge on the atom.                        | charge                |"
   ]
  },
  {
   "cell_type": "markdown",
   "metadata": {},
   "source": [
    "Below is an example of how this would look like in an actual PDB file:"
   ]
  },
  {
   "cell_type": "markdown",
   "metadata": {},
   "source": [
    "    Example: \n",
    "             1         2         3         4         5         6         7         8\n",
    "    12345678901234567890123456789012345678901234567890123456789012345678901234567890\n",
    "    ATOM    145  N   VAL A  25      32.433  16.336  57.540  1.00 11.92      A1   N\n",
    "    ATOM    146  CA  VAL A  25      31.132  16.439  58.160  1.00 11.85      A1   C\n",
    "    ATOM    147  C   VAL A  25      30.447  15.105  58.363  1.00 12.34      A1   C\n",
    "    ATOM    148  O   VAL A  25      29.520  15.059  59.174  1.00 15.65      A1   O\n",
    "    ATOM    149  CB AVAL A  25      30.385  17.437  57.230  0.28 13.88      A1   C\n",
    "    ATOM    150  CB BVAL A  25      30.166  17.399  57.373  0.72 15.41      A1   C\n",
    "    ATOM    151  CG1AVAL A  25      28.870  17.401  57.336  0.28 12.64      A1   C\n",
    "    ATOM    152  CG1BVAL A  25      30.805  18.788  57.449  0.72 15.11      A1   C\n",
    "    ATOM    153  CG2AVAL A  25      30.835  18.826  57.661  0.28 13.58      A1   C\n",
    "    ATOM    154  CG2BVAL A  25      29.909  16.996  55.922  0.72 13.25      A1   C"
   ]
  },
  {
   "cell_type": "markdown",
   "metadata": {},
   "source": [
    "After loading a PDB file from rcsb.org or our local drive, the [`PandasPDB.df`](../api/biopandas.pdb/#pandaspdbdf) attribute should contain the following 4 DataFrame objects:"
   ]
  },
  {
   "cell_type": "code",
   "execution_count": 2,
   "metadata": {
    "collapsed": false
   },
   "outputs": [
    {
     "data": {
      "text/plain": [
       "dict_keys(['ANISOU', 'ATOM', 'OTHERS', 'HETATM'])"
      ]
     },
     "execution_count": 2,
     "metadata": {},
     "output_type": "execute_result"
    }
   ],
   "source": [
    "from biopandas.pdb import PandasPDB\n",
    "ppdb = PandasPDB()\n",
    "ppdb.read_pdb('./data/3eiy.pdb')\n",
    "ppdb.df.keys()"
   ]
  },
  {
   "cell_type": "markdown",
   "metadata": {},
   "source": [
    "- 'ATOM': contains the entries from the ATOM coordinate section\n",
    "- 'ATOM':  ... entries from the \"HETATM\" coordinate section    \n",
    "- 'ANISOU': ... entries from the \"ANISOU\" coordinate section \n",
    "- 'OTHERS': Everything else that is *not* a 'ATOM', 'HETATM', or 'ANISOU' entry"
   ]
  },
  {
   "cell_type": "markdown",
   "metadata": {},
   "source": [
    "![](./img/df_dict.jpg)"
   ]
  },
  {
   "cell_type": "markdown",
   "metadata": {},
   "source": [
    "The columns of the 'HETATM' DataFrame are indentical to the 'ATOM' DataFrame that we've seen earlier:"
   ]
  },
  {
   "cell_type": "code",
   "execution_count": 8,
   "metadata": {
    "collapsed": false
   },
   "outputs": [
    {
     "data": {
      "text/html": [
       "<div>\n",
       "<table border=\"1\" class=\"dataframe\">\n",
       "  <thead>\n",
       "    <tr style=\"text-align: right;\">\n",
       "      <th></th>\n",
       "      <th>record_name</th>\n",
       "      <th>atom_number</th>\n",
       "      <th>blank_1</th>\n",
       "      <th>atom_name</th>\n",
       "      <th>...</th>\n",
       "      <th>segment_id</th>\n",
       "      <th>element_symbol</th>\n",
       "      <th>charge</th>\n",
       "      <th>line_idx</th>\n",
       "    </tr>\n",
       "  </thead>\n",
       "  <tbody>\n",
       "    <tr>\n",
       "      <th>0</th>\n",
       "      <td>HETATM</td>\n",
       "      <td>1332</td>\n",
       "      <td></td>\n",
       "      <td>K</td>\n",
       "      <td>...</td>\n",
       "      <td></td>\n",
       "      <td>K</td>\n",
       "      <td>NaN</td>\n",
       "      <td>1940</td>\n",
       "    </tr>\n",
       "    <tr>\n",
       "      <th>1</th>\n",
       "      <td>HETATM</td>\n",
       "      <td>1333</td>\n",
       "      <td></td>\n",
       "      <td>NA</td>\n",
       "      <td>...</td>\n",
       "      <td></td>\n",
       "      <td>NA</td>\n",
       "      <td>NaN</td>\n",
       "      <td>1941</td>\n",
       "    </tr>\n",
       "  </tbody>\n",
       "</table>\n",
       "<p>2 rows × 21 columns</p>\n",
       "</div>"
      ],
      "text/plain": [
       "  record_name  atom_number blank_1 atom_name   ...    segment_id element_symbol charge line_idx\n",
       "0      HETATM         1332                 K   ...                            K    NaN     1940\n",
       "1      HETATM         1333                NA   ...                           NA    NaN     1941\n",
       "\n",
       "[2 rows x 21 columns]"
      ]
     },
     "execution_count": 8,
     "metadata": {},
     "output_type": "execute_result"
    }
   ],
   "source": [
    "ppdb.df['HETATM'].head(2)"
   ]
  },
  {
   "cell_type": "markdown",
   "metadata": {},
   "source": [
    "<br>"
   ]
  },
  {
   "cell_type": "markdown",
   "metadata": {},
   "source": [
    "Note that \"ANISOU\" entries are handled a bit differently as specified at [http://deposit.rcsb.org/adit/docs/pdb_atom_format.html#ATOM](http://deposit.rcsb.org/adit/docs/pdb_atom_format.html#ATOM)."
   ]
  },
  {
   "cell_type": "code",
   "execution_count": 9,
   "metadata": {
    "collapsed": false
   },
   "outputs": [
    {
     "data": {
      "text/html": [
       "<div>\n",
       "<table border=\"1\" class=\"dataframe\">\n",
       "  <thead>\n",
       "    <tr style=\"text-align: right;\">\n",
       "      <th></th>\n",
       "      <th>record_name</th>\n",
       "      <th>atom_number</th>\n",
       "      <th>blank_1</th>\n",
       "      <th>atom_name</th>\n",
       "      <th>...</th>\n",
       "      <th>blank_4</th>\n",
       "      <th>element_symbol</th>\n",
       "      <th>charge</th>\n",
       "      <th>line_idx</th>\n",
       "    </tr>\n",
       "  </thead>\n",
       "  <tbody>\n",
       "  </tbody>\n",
       "</table>\n",
       "<p>0 rows × 21 columns</p>\n",
       "</div>"
      ],
      "text/plain": [
       "Empty DataFrame\n",
       "Columns: [record_name, atom_number, blank_1, atom_name, alt_loc, residue_name, blank_2, chain_id, residue_number, insertion, blank_3, U(1,1), U(2,2), U(3,3), U(1,2), U(1,3), U(2,3), blank_4, element_symbol, charge, line_idx]\n",
       "Index: []\n",
       "\n",
       "[0 rows x 21 columns]"
      ]
     },
     "execution_count": 9,
     "metadata": {},
     "output_type": "execute_result"
    }
   ],
   "source": [
    "ppdb.df['ANISOU'].head(2)"
   ]
  },
  {
   "cell_type": "markdown",
   "metadata": {},
   "source": [
    "Not every PDB file contains ANISOU entries (similarly, some PDB files may only contain HETATM or ATOM entries). If records are basent, the DataFrame will be empty as show above."
   ]
  },
  {
   "cell_type": "code",
   "execution_count": 10,
   "metadata": {
    "collapsed": false
   },
   "outputs": [
    {
     "data": {
      "text/plain": [
       "True"
      ]
     },
     "execution_count": 10,
     "metadata": {},
     "output_type": "execute_result"
    }
   ],
   "source": [
    "ppdb.df['ANISOU'].empty"
   ]
  },
  {
   "cell_type": "markdown",
   "metadata": {},
   "source": [
    "Since the DataFrames are fairly wide, let's us take a look at the columns by accessing the DataFrame's `column` attribute:"
   ]
  },
  {
   "cell_type": "code",
   "execution_count": 12,
   "metadata": {
    "collapsed": false
   },
   "outputs": [
    {
     "data": {
      "text/plain": [
       "Index(['record_name', 'atom_number', 'blank_1', 'atom_name', 'alt_loc', 'residue_name', 'blank_2', 'chain_id', 'residue_number', 'insertion', 'blank_3', 'U(1,1)', 'U(2,2)', 'U(3,3)', 'U(1,2)', 'U(1,3)', 'U(2,3)', 'blank_4', 'element_symbol', 'charge', 'line_idx'], dtype='object')"
      ]
     },
     "execution_count": 12,
     "metadata": {},
     "output_type": "execute_result"
    }
   ],
   "source": [
    "ppdb.df['ANISOU'].columns"
   ]
  },
  {
   "cell_type": "markdown",
   "metadata": {},
   "source": [
    "ANISOU records are very similar to ATOM/HETATM records. In fact, the columns 7 - 27 and 73 - 80 are identical to their corresponding ATOM/HETATM records, which means that the 'ANISOU' DataFrame doesn't have the following entries:"
   ]
  },
  {
   "cell_type": "code",
   "execution_count": 14,
   "metadata": {
    "collapsed": false
   },
   "outputs": [
    {
     "data": {
      "text/plain": [
       "{'b_factor', 'occupancy', 'segment_id', 'x_coord', 'y_coord', 'z_coord'}"
      ]
     },
     "execution_count": 14,
     "metadata": {},
     "output_type": "execute_result"
    }
   ],
   "source": [
    "set(ppdb.df['ATOM'].columns).difference(set(ppdb.df['ANISOU'].columns))"
   ]
  },
  {
   "cell_type": "markdown",
   "metadata": {},
   "source": [
    "Instead, the \"ANISOU\" DataFrame contains the anisotropic temperature factors \"U(-,-)\" -- note that these are scaled by a factor of $10^4$ ($\\text{Angstroms}^2$) by convention."
   ]
  },
  {
   "cell_type": "code",
   "execution_count": 13,
   "metadata": {
    "collapsed": false
   },
   "outputs": [
    {
     "data": {
      "text/plain": [
       "{'U(1,1)', 'U(1,2)', 'U(1,3)', 'U(2,2)', 'U(2,3)', 'U(3,3)'}"
      ]
     },
     "execution_count": 13,
     "metadata": {},
     "output_type": "execute_result"
    }
   ],
   "source": [
    "set(ppdb.df['ANISOU'].columns).difference(set(ppdb.df['ATOM'].columns))"
   ]
  },
  {
   "cell_type": "markdown",
   "metadata": {},
   "source": [
    "<br>\n",
    "<br>"
   ]
  },
  {
   "cell_type": "markdown",
   "metadata": {},
   "source": [
    "Ah, another interesting thing to mention is that the columns already come with the types you'd expect (where `object` essentially \"means\" `str` here):"
   ]
  },
  {
   "cell_type": "code",
   "execution_count": 6,
   "metadata": {
    "collapsed": false
   },
   "outputs": [
    {
     "data": {
      "text/plain": [
       "record_name        object\n",
       "atom_number         int64\n",
       "blank_1            object\n",
       "atom_name          object\n",
       "alt_loc            object\n",
       "residue_name       object\n",
       "blank_2            object\n",
       "chain_id           object\n",
       "residue_number      int64\n",
       "insertion          object\n",
       "blank_3            object\n",
       "x_coord           float64\n",
       "y_coord           float64\n",
       "z_coord           float64\n",
       "occupancy         float64\n",
       "b_factor          float64\n",
       "blank_4            object\n",
       "segment_id         object\n",
       "element_symbol     object\n",
       "charge            float64\n",
       "line_idx            int64\n",
       "dtype: object"
      ]
     },
     "execution_count": 6,
     "metadata": {},
     "output_type": "execute_result"
    }
   ],
   "source": [
    "ppdb.df['ATOM'].dtypes"
   ]
  },
  {
   "cell_type": "markdown",
   "metadata": {},
   "source": [
    "<br>"
   ]
  },
  {
   "cell_type": "markdown",
   "metadata": {},
   "source": [
    "Typically, all good things come in threes, however, there is a 4th DataFrame, an'OTHER' DataFrame, which contains everything that wasn't parsed as 'ATOM', 'HETATM', or 'ANISOU' coordinate section:"
   ]
  },
  {
   "cell_type": "code",
   "execution_count": 7,
   "metadata": {
    "collapsed": false
   },
   "outputs": [
    {
     "data": {
      "text/html": [
       "<div>\n",
       "<table border=\"1\" class=\"dataframe\">\n",
       "  <thead>\n",
       "    <tr style=\"text-align: right;\">\n",
       "      <th></th>\n",
       "      <th>record_name</th>\n",
       "      <th>entry</th>\n",
       "      <th>line_idx</th>\n",
       "    </tr>\n",
       "  </thead>\n",
       "  <tbody>\n",
       "    <tr>\n",
       "      <th>0</th>\n",
       "      <td>HEADER</td>\n",
       "      <td>HYDROLASE                               17...</td>\n",
       "      <td>0</td>\n",
       "    </tr>\n",
       "    <tr>\n",
       "      <th>1</th>\n",
       "      <td>TITLE</td>\n",
       "      <td>CRYSTAL STRUCTURE OF INORGANIC PYROPHOSPHA...</td>\n",
       "      <td>1</td>\n",
       "    </tr>\n",
       "    <tr>\n",
       "      <th>2</th>\n",
       "      <td>TITLE</td>\n",
       "      <td>2 PSEUDOMALLEI WITH BOUND PYROPHOSPHATE</td>\n",
       "      <td>2</td>\n",
       "    </tr>\n",
       "    <tr>\n",
       "      <th>3</th>\n",
       "      <td>COMPND</td>\n",
       "      <td>MOL_ID: 1;</td>\n",
       "      <td>3</td>\n",
       "    </tr>\n",
       "    <tr>\n",
       "      <th>4</th>\n",
       "      <td>COMPND</td>\n",
       "      <td>2 MOLECULE: INORGANIC PYROPHOSPHATASE;</td>\n",
       "      <td>4</td>\n",
       "    </tr>\n",
       "  </tbody>\n",
       "</table>\n",
       "</div>"
      ],
      "text/plain": [
       "  record_name                                              entry  line_idx\n",
       "0      HEADER      HYDROLASE                               17...         0\n",
       "1       TITLE      CRYSTAL STRUCTURE OF INORGANIC PYROPHOSPHA...         1\n",
       "2       TITLE            2 PSEUDOMALLEI WITH BOUND PYROPHOSPHATE         2\n",
       "3      COMPND                                         MOL_ID: 1;         3\n",
       "4      COMPND             2 MOLECULE: INORGANIC PYROPHOSPHATASE;         4"
      ]
     },
     "execution_count": 7,
     "metadata": {},
     "output_type": "execute_result"
    }
   ],
   "source": [
    "ppdb.df['OTHERS'].head(5)"
   ]
  },
  {
   "cell_type": "markdown",
   "metadata": {},
   "source": [
    "Although these 'OTHER' entries are typically less useful for structure-related computations, you may still want to take a look at them to get a short summary of the PDB structure and learn about it's potential quirks and gotchas (typically listed in the REMARKs section). Lastly, the \"OTHERS\" DataFrame comes in handy if we want to reconstruct the structure as PDB file as we will see later (note the `line_idx` columns in all of the DataFrames)."
   ]
  },
  {
   "cell_type": "markdown",
   "metadata": {
    "collapsed": false
   },
   "source": [
    "## Working with PDB DataFrames"
   ]
  },
  {
   "cell_type": "markdown",
   "metadata": {},
   "source": [
    "In the previous sections, we've seen how to load PDB structures into DataFrames, and how to access them. Now, let's talk about manipulating PDB files in DataFrames."
   ]
  },
  {
   "cell_type": "code",
   "execution_count": 13,
   "metadata": {
    "collapsed": false
   },
   "outputs": [
    {
     "data": {
      "text/html": [
       "<div>\n",
       "<table border=\"1\" class=\"dataframe\">\n",
       "  <thead>\n",
       "    <tr style=\"text-align: right;\">\n",
       "      <th></th>\n",
       "      <th>record_name</th>\n",
       "      <th>atom_number</th>\n",
       "      <th>blank_1</th>\n",
       "      <th>atom_name</th>\n",
       "      <th>...</th>\n",
       "      <th>segment_id</th>\n",
       "      <th>element_symbol</th>\n",
       "      <th>charge</th>\n",
       "      <th>line_idx</th>\n",
       "    </tr>\n",
       "  </thead>\n",
       "  <tbody>\n",
       "    <tr>\n",
       "      <th>0</th>\n",
       "      <td>ATOM</td>\n",
       "      <td>1</td>\n",
       "      <td></td>\n",
       "      <td>N</td>\n",
       "      <td>...</td>\n",
       "      <td></td>\n",
       "      <td>N</td>\n",
       "      <td>NaN</td>\n",
       "      <td>609</td>\n",
       "    </tr>\n",
       "    <tr>\n",
       "      <th>1</th>\n",
       "      <td>ATOM</td>\n",
       "      <td>2</td>\n",
       "      <td></td>\n",
       "      <td>CA</td>\n",
       "      <td>...</td>\n",
       "      <td></td>\n",
       "      <td>C</td>\n",
       "      <td>NaN</td>\n",
       "      <td>610</td>\n",
       "    </tr>\n",
       "    <tr>\n",
       "      <th>2</th>\n",
       "      <td>ATOM</td>\n",
       "      <td>3</td>\n",
       "      <td></td>\n",
       "      <td>C</td>\n",
       "      <td>...</td>\n",
       "      <td></td>\n",
       "      <td>C</td>\n",
       "      <td>NaN</td>\n",
       "      <td>611</td>\n",
       "    </tr>\n",
       "    <tr>\n",
       "      <th>3</th>\n",
       "      <td>ATOM</td>\n",
       "      <td>4</td>\n",
       "      <td></td>\n",
       "      <td>O</td>\n",
       "      <td>...</td>\n",
       "      <td></td>\n",
       "      <td>O</td>\n",
       "      <td>NaN</td>\n",
       "      <td>612</td>\n",
       "    </tr>\n",
       "    <tr>\n",
       "      <th>4</th>\n",
       "      <td>ATOM</td>\n",
       "      <td>5</td>\n",
       "      <td></td>\n",
       "      <td>CB</td>\n",
       "      <td>...</td>\n",
       "      <td></td>\n",
       "      <td>C</td>\n",
       "      <td>NaN</td>\n",
       "      <td>613</td>\n",
       "    </tr>\n",
       "  </tbody>\n",
       "</table>\n",
       "<p>5 rows × 21 columns</p>\n",
       "</div>"
      ],
      "text/plain": [
       "  record_name  atom_number blank_1 atom_name   ...    segment_id element_symbol charge line_idx\n",
       "0        ATOM            1                 N   ...                            N    NaN      609\n",
       "1        ATOM            2                CA   ...                            C    NaN      610\n",
       "2        ATOM            3                 C   ...                            C    NaN      611\n",
       "3        ATOM            4                 O   ...                            O    NaN      612\n",
       "4        ATOM            5                CB   ...                            C    NaN      613\n",
       "\n",
       "[5 rows x 21 columns]"
      ]
     },
     "execution_count": 13,
     "metadata": {},
     "output_type": "execute_result"
    }
   ],
   "source": [
    "from biopandas.pdb import PandasPDB\n",
    "ppdb = PandasPDB()\n",
    "ppdb.read_pdb('./data/3eiy.pdb.gz')\n",
    "ppdb.df['ATOM'].head()"
   ]
  },
  {
   "cell_type": "markdown",
   "metadata": {
    "collapsed": false
   },
   "source": [
    "Okay, there's actually not *that* much to say ...   \n",
    "Once we have our PDB file in the DataFrame format, we have the whole convenience of [pandas](http://pandas.pydata.org) right there at our fingertips."
   ]
  },
  {
   "cell_type": "markdown",
   "metadata": {},
   "source": [
    "For example, let's get all Proline residues:"
   ]
  },
  {
   "cell_type": "code",
   "execution_count": 14,
   "metadata": {
    "collapsed": false
   },
   "outputs": [
    {
     "data": {
      "text/html": [
       "<div>\n",
       "<table border=\"1\" class=\"dataframe\">\n",
       "  <thead>\n",
       "    <tr style=\"text-align: right;\">\n",
       "      <th></th>\n",
       "      <th>record_name</th>\n",
       "      <th>atom_number</th>\n",
       "      <th>blank_1</th>\n",
       "      <th>atom_name</th>\n",
       "      <th>...</th>\n",
       "      <th>segment_id</th>\n",
       "      <th>element_symbol</th>\n",
       "      <th>charge</th>\n",
       "      <th>line_idx</th>\n",
       "    </tr>\n",
       "  </thead>\n",
       "  <tbody>\n",
       "    <tr>\n",
       "      <th>38</th>\n",
       "      <td>ATOM</td>\n",
       "      <td>39</td>\n",
       "      <td></td>\n",
       "      <td>N</td>\n",
       "      <td>...</td>\n",
       "      <td></td>\n",
       "      <td>N</td>\n",
       "      <td>NaN</td>\n",
       "      <td>647</td>\n",
       "    </tr>\n",
       "    <tr>\n",
       "      <th>39</th>\n",
       "      <td>ATOM</td>\n",
       "      <td>40</td>\n",
       "      <td></td>\n",
       "      <td>CA</td>\n",
       "      <td>...</td>\n",
       "      <td></td>\n",
       "      <td>C</td>\n",
       "      <td>NaN</td>\n",
       "      <td>648</td>\n",
       "    </tr>\n",
       "    <tr>\n",
       "      <th>40</th>\n",
       "      <td>ATOM</td>\n",
       "      <td>41</td>\n",
       "      <td></td>\n",
       "      <td>C</td>\n",
       "      <td>...</td>\n",
       "      <td></td>\n",
       "      <td>C</td>\n",
       "      <td>NaN</td>\n",
       "      <td>649</td>\n",
       "    </tr>\n",
       "    <tr>\n",
       "      <th>41</th>\n",
       "      <td>ATOM</td>\n",
       "      <td>42</td>\n",
       "      <td></td>\n",
       "      <td>O</td>\n",
       "      <td>...</td>\n",
       "      <td></td>\n",
       "      <td>O</td>\n",
       "      <td>NaN</td>\n",
       "      <td>650</td>\n",
       "    </tr>\n",
       "    <tr>\n",
       "      <th>42</th>\n",
       "      <td>ATOM</td>\n",
       "      <td>43</td>\n",
       "      <td></td>\n",
       "      <td>CB</td>\n",
       "      <td>...</td>\n",
       "      <td></td>\n",
       "      <td>C</td>\n",
       "      <td>NaN</td>\n",
       "      <td>651</td>\n",
       "    </tr>\n",
       "  </tbody>\n",
       "</table>\n",
       "<p>5 rows × 21 columns</p>\n",
       "</div>"
      ],
      "text/plain": [
       "   record_name  atom_number blank_1 atom_name   ...    segment_id element_symbol charge line_idx\n",
       "38        ATOM           39                 N   ...                            N    NaN      647\n",
       "39        ATOM           40                CA   ...                            C    NaN      648\n",
       "40        ATOM           41                 C   ...                            C    NaN      649\n",
       "41        ATOM           42                 O   ...                            O    NaN      650\n",
       "42        ATOM           43                CB   ...                            C    NaN      651\n",
       "\n",
       "[5 rows x 21 columns]"
      ]
     },
     "execution_count": 14,
     "metadata": {},
     "output_type": "execute_result"
    }
   ],
   "source": [
    "ppdb.df['ATOM'][ppdb.df['ATOM']['residue_name'] == 'PRO'].head()"
   ]
  },
  {
   "cell_type": "markdown",
   "metadata": {},
   "source": [
    "Or main chain atoms:"
   ]
  },
  {
   "cell_type": "code",
   "execution_count": 15,
   "metadata": {
    "collapsed": false
   },
   "outputs": [
    {
     "data": {
      "text/html": [
       "<div>\n",
       "<table border=\"1\" class=\"dataframe\">\n",
       "  <thead>\n",
       "    <tr style=\"text-align: right;\">\n",
       "      <th></th>\n",
       "      <th>record_name</th>\n",
       "      <th>atom_number</th>\n",
       "      <th>blank_1</th>\n",
       "      <th>atom_name</th>\n",
       "      <th>...</th>\n",
       "      <th>segment_id</th>\n",
       "      <th>element_symbol</th>\n",
       "      <th>charge</th>\n",
       "      <th>line_idx</th>\n",
       "    </tr>\n",
       "  </thead>\n",
       "  <tbody>\n",
       "    <tr>\n",
       "      <th>2</th>\n",
       "      <td>ATOM</td>\n",
       "      <td>3</td>\n",
       "      <td></td>\n",
       "      <td>C</td>\n",
       "      <td>...</td>\n",
       "      <td></td>\n",
       "      <td>C</td>\n",
       "      <td>NaN</td>\n",
       "      <td>611</td>\n",
       "    </tr>\n",
       "    <tr>\n",
       "      <th>8</th>\n",
       "      <td>ATOM</td>\n",
       "      <td>9</td>\n",
       "      <td></td>\n",
       "      <td>C</td>\n",
       "      <td>...</td>\n",
       "      <td></td>\n",
       "      <td>C</td>\n",
       "      <td>NaN</td>\n",
       "      <td>617</td>\n",
       "    </tr>\n",
       "    <tr>\n",
       "      <th>19</th>\n",
       "      <td>ATOM</td>\n",
       "      <td>20</td>\n",
       "      <td></td>\n",
       "      <td>C</td>\n",
       "      <td>...</td>\n",
       "      <td></td>\n",
       "      <td>C</td>\n",
       "      <td>NaN</td>\n",
       "      <td>628</td>\n",
       "    </tr>\n",
       "    <tr>\n",
       "      <th>25</th>\n",
       "      <td>ATOM</td>\n",
       "      <td>26</td>\n",
       "      <td></td>\n",
       "      <td>C</td>\n",
       "      <td>...</td>\n",
       "      <td></td>\n",
       "      <td>C</td>\n",
       "      <td>NaN</td>\n",
       "      <td>634</td>\n",
       "    </tr>\n",
       "    <tr>\n",
       "      <th>33</th>\n",
       "      <td>ATOM</td>\n",
       "      <td>34</td>\n",
       "      <td></td>\n",
       "      <td>C</td>\n",
       "      <td>...</td>\n",
       "      <td></td>\n",
       "      <td>C</td>\n",
       "      <td>NaN</td>\n",
       "      <td>642</td>\n",
       "    </tr>\n",
       "  </tbody>\n",
       "</table>\n",
       "<p>5 rows × 21 columns</p>\n",
       "</div>"
      ],
      "text/plain": [
       "   record_name  atom_number blank_1 atom_name   ...    segment_id element_symbol charge line_idx\n",
       "2         ATOM            3                 C   ...                            C    NaN      611\n",
       "8         ATOM            9                 C   ...                            C    NaN      617\n",
       "19        ATOM           20                 C   ...                            C    NaN      628\n",
       "25        ATOM           26                 C   ...                            C    NaN      634\n",
       "33        ATOM           34                 C   ...                            C    NaN      642\n",
       "\n",
       "[5 rows x 21 columns]"
      ]
     },
     "execution_count": 15,
     "metadata": {},
     "output_type": "execute_result"
    }
   ],
   "source": [
    "ppdb.df['ATOM'][ppdb.df['ATOM']['atom_name'] == 'C'].head()"
   ]
  },
  {
   "cell_type": "markdown",
   "metadata": {},
   "source": [
    "It's also easy to strip our coordinate section from hydrogen atoms if there are any ..."
   ]
  },
  {
   "cell_type": "code",
   "execution_count": 16,
   "metadata": {
    "collapsed": false
   },
   "outputs": [
    {
     "data": {
      "text/html": [
       "<div>\n",
       "<table border=\"1\" class=\"dataframe\">\n",
       "  <thead>\n",
       "    <tr style=\"text-align: right;\">\n",
       "      <th></th>\n",
       "      <th>record_name</th>\n",
       "      <th>atom_number</th>\n",
       "      <th>blank_1</th>\n",
       "      <th>atom_name</th>\n",
       "      <th>...</th>\n",
       "      <th>segment_id</th>\n",
       "      <th>element_symbol</th>\n",
       "      <th>charge</th>\n",
       "      <th>line_idx</th>\n",
       "    </tr>\n",
       "  </thead>\n",
       "  <tbody>\n",
       "    <tr>\n",
       "      <th>0</th>\n",
       "      <td>ATOM</td>\n",
       "      <td>1</td>\n",
       "      <td></td>\n",
       "      <td>N</td>\n",
       "      <td>...</td>\n",
       "      <td></td>\n",
       "      <td>N</td>\n",
       "      <td>NaN</td>\n",
       "      <td>609</td>\n",
       "    </tr>\n",
       "    <tr>\n",
       "      <th>1</th>\n",
       "      <td>ATOM</td>\n",
       "      <td>2</td>\n",
       "      <td></td>\n",
       "      <td>CA</td>\n",
       "      <td>...</td>\n",
       "      <td></td>\n",
       "      <td>C</td>\n",
       "      <td>NaN</td>\n",
       "      <td>610</td>\n",
       "    </tr>\n",
       "    <tr>\n",
       "      <th>2</th>\n",
       "      <td>ATOM</td>\n",
       "      <td>3</td>\n",
       "      <td></td>\n",
       "      <td>C</td>\n",
       "      <td>...</td>\n",
       "      <td></td>\n",
       "      <td>C</td>\n",
       "      <td>NaN</td>\n",
       "      <td>611</td>\n",
       "    </tr>\n",
       "    <tr>\n",
       "      <th>3</th>\n",
       "      <td>ATOM</td>\n",
       "      <td>4</td>\n",
       "      <td></td>\n",
       "      <td>O</td>\n",
       "      <td>...</td>\n",
       "      <td></td>\n",
       "      <td>O</td>\n",
       "      <td>NaN</td>\n",
       "      <td>612</td>\n",
       "    </tr>\n",
       "    <tr>\n",
       "      <th>4</th>\n",
       "      <td>ATOM</td>\n",
       "      <td>5</td>\n",
       "      <td></td>\n",
       "      <td>CB</td>\n",
       "      <td>...</td>\n",
       "      <td></td>\n",
       "      <td>C</td>\n",
       "      <td>NaN</td>\n",
       "      <td>613</td>\n",
       "    </tr>\n",
       "  </tbody>\n",
       "</table>\n",
       "<p>5 rows × 21 columns</p>\n",
       "</div>"
      ],
      "text/plain": [
       "  record_name  atom_number blank_1 atom_name   ...    segment_id element_symbol charge line_idx\n",
       "0        ATOM            1                 N   ...                            N    NaN      609\n",
       "1        ATOM            2                CA   ...                            C    NaN      610\n",
       "2        ATOM            3                 C   ...                            C    NaN      611\n",
       "3        ATOM            4                 O   ...                            O    NaN      612\n",
       "4        ATOM            5                CB   ...                            C    NaN      613\n",
       "\n",
       "[5 rows x 21 columns]"
      ]
     },
     "execution_count": 16,
     "metadata": {},
     "output_type": "execute_result"
    }
   ],
   "source": [
    "ppdb.df['ATOM'][ppdb.df['ATOM']['element_symbol'] != 'H'].head()"
   ]
  },
  {
   "cell_type": "markdown",
   "metadata": {},
   "source": [
    "Or, let's compute the average temperature factor of our protein main chain:"
   ]
  },
  {
   "cell_type": "code",
   "execution_count": 17,
   "metadata": {
    "collapsed": false
   },
   "outputs": [
    {
     "name": "stdout",
     "output_type": "stream",
     "text": [
      "Average B-Factor [Main Chain]: 28.83\n"
     ]
    }
   ],
   "source": [
    "mainchain = ppdb.df['ATOM'][(ppdb.df['ATOM']['atom_name'] == 'C') | \n",
    "                            (ppdb.df['ATOM']['atom_name'] == 'O') | \n",
    "                            (ppdb.df['ATOM']['atom_name'] == 'N') | \n",
    "                            (ppdb.df['ATOM']['atom_name'] == 'CA')]\n",
    "\n",
    "bfact_mc_avg = mainchain['b_factor'].mean()\n",
    "print('Average B-Factor [Main Chain]: %.2f' % bfact_mc_avg)"
   ]
  },
  {
   "cell_type": "markdown",
   "metadata": {},
   "source": [
    "## Plotting"
   ]
  },
  {
   "cell_type": "markdown",
   "metadata": {},
   "source": [
    "Since we are using pandas under the hood, which in turns uses matplotlib under the hood, we can produce quick summary plots of our PDB structures relatively conveniently:"
   ]
  },
  {
   "cell_type": "code",
   "execution_count": 18,
   "metadata": {
    "collapsed": false
   },
   "outputs": [],
   "source": [
    "from biopandas.pdb import PandasPDB\n",
    "ppdb = PandasPDB().read_pdb('./data/3eiy.pdb.gz')"
   ]
  },
  {
   "cell_type": "code",
   "execution_count": 19,
   "metadata": {
    "collapsed": true
   },
   "outputs": [],
   "source": [
    "%matplotlib inline\n",
    "import matplotlib.pyplot as plt\n",
    "from matplotlib import style\n",
    "style.use('ggplot')"
   ]
  },
  {
   "cell_type": "code",
   "execution_count": 20,
   "metadata": {
    "collapsed": false
   },
   "outputs": [
    {
     "data": {
      "image/png": "[encoded data removed]",
      "text/plain": [
       "<matplotlib.figure.Figure at 0x10817dc18>"
      ]
     },
     "metadata": {},
     "output_type": "display_data"
    }
   ],
   "source": [
    "ppdb.df['ATOM']['b_factor'].plot(kind='hist')\n",
    "plt.title('Distribution of B-Factors')\n",
    "plt.xlabel('B-factor')\n",
    "plt.ylabel('count')\n",
    "plt.show()"
   ]
  },
  {
   "cell_type": "code",
   "execution_count": 21,
   "metadata": {
    "collapsed": false
   },
   "outputs": [
    {
     "data": {
      "image/png": "[encoded data removed]",
      "text/plain": [
       "<matplotlib.figure.Figure at 0x10832c400>"
      ]
     },
     "metadata": {},
     "output_type": "display_data"
    }
   ],
   "source": [
    "ppdb.df['ATOM']['b_factor'].plot(kind='line')\n",
    "plt.title('B-Factors Along the Amino Acid Chain')\n",
    "plt.xlabel('Residue Number')\n",
    "plt.ylabel('B-factor in $A^2$')\n",
    "plt.show()"
   ]
  },
  {
   "cell_type": "code",
   "execution_count": 22,
   "metadata": {
    "collapsed": false
   },
   "outputs": [
    {
     "data": {
      "image/png": "[encoded data removed]",
      "text/plain": [
       "<matplotlib.figure.Figure at 0x108e1ee48>"
      ]
     },
     "metadata": {},
     "output_type": "display_data"
    }
   ],
   "source": [
    "ppdb.df['ATOM']['element_symbol'].value_counts().plot(kind='bar')\n",
    "plt.title('Distribution of Atom Types')\n",
    "plt.xlabel('elements')\n",
    "plt.ylabel('count')\n",
    "plt.show()"
   ]
  },
  {
   "cell_type": "markdown",
   "metadata": {
    "collapsed": true
   },
   "source": [
    "## Computing the Root Mean Square Deviation"
   ]
  },
  {
   "cell_type": "markdown",
   "metadata": {},
   "source": [
    "BioPandas also comes with certain convenience functions, for example, ..."
   ]
  },
  {
   "cell_type": "markdown",
   "metadata": {},
   "source": [
    "The [Root-mean-square deviation] (RMSD) is simply a measure of the average distance between atoms of 2 protein or ligand structures. This calculation of the Cartesian error follows the equation:\n",
    "\n",
    "$$RMSD(a, b) = \\sqrt{\\frac{1}{n} \\sum^{n}_{i=1} \\big((a_{ix})^2 + (a_{iy})^2 + (a_{iz})^2 \\big)} \\\\\n",
    "= \\sqrt{\\frac{1}{n} \\sum^{n}_{i=1} || a_i + b_i||_2^2}$$"
   ]
  },
  {
   "cell_type": "markdown",
   "metadata": {},
   "source": [
    "So, assuming that the we have the following 2 conformation of a ligand molecule\n",
    "\n",
    "![](./img/ligand_rmsd.png)\n",
    "\n",
    "we can compute the RMSD as follows:"
   ]
  },
  {
   "cell_type": "code",
   "execution_count": 23,
   "metadata": {
    "collapsed": false
   },
   "outputs": [
    {
     "name": "stdout",
     "output_type": "stream",
     "text": [
      "RMSD: 2.6444 Angstrom\n"
     ]
    }
   ],
   "source": [
    "from biopandas.pdb import PandasPDB\n",
    "\n",
    "l_1 = PandasPDB().read_pdb('./data/lig_conf_1.pdb')\n",
    "l_2 = PandasPDB().read_pdb('./data/lig_conf_2.pdb')\n",
    "r = PandasPDB.rmsd(l_1.df['HETATM'], l_2.df['HETATM'], s='hydrogen', invert=True)\n",
    "print('RMSD: %.4f Angstrom' % r)"
   ]
  },
  {
   "cell_type": "markdown",
   "metadata": {},
   "source": [
    "Note that the `s` parameter in [`PandasPDB.rmsd`](../api/biopandas.pdb#pandaspdbrmsd) specifies the search string \"consider all hydrogen atoms\" and via the `invert=True` option, we say \"Compute the RMSD for everything BUT the hydrogen atoms\" or \"Compute the RSMD based on the heavy atoms only\"."
   ]
  },
  {
   "cell_type": "markdown",
   "metadata": {},
   "source": [
    "Similarly, we can compute the RMSD between 2 related protein structures:\n",
    "\n",
    "![](./img/1t48_rmsd.png)"
   ]
  },
  {
   "cell_type": "markdown",
   "metadata": {},
   "source": [
    "The hydrogen-free RMSD:"
   ]
  },
  {
   "cell_type": "code",
   "execution_count": 24,
   "metadata": {
    "collapsed": false
   },
   "outputs": [
    {
     "name": "stdout",
     "output_type": "stream",
     "text": [
      "RMSD: 0.7377 Angstrom\n"
     ]
    }
   ],
   "source": [
    "p_1 = PandasPDB().read_pdb('./data/1t48_995.pdb')\n",
    "p_2 = PandasPDB().read_pdb('./data/1t49_995.pdb')\n",
    "r = PandasPDB.rmsd(p_1.df['ATOM'], p_2.df['ATOM'], s='hydrogen', invert=True)\n",
    "print('RMSD: %.4f Angstrom' % r)"
   ]
  },
  {
   "cell_type": "markdown",
   "metadata": {},
   "source": [
    "Or the RMSD between the main chains only:"
   ]
  },
  {
   "cell_type": "code",
   "execution_count": 25,
   "metadata": {
    "collapsed": false
   },
   "outputs": [
    {
     "name": "stdout",
     "output_type": "stream",
     "text": [
      "RMSD: 0.4781 Angstrom\n"
     ]
    }
   ],
   "source": [
    "p_1 = PandasPDB().read_pdb('./data/1t48_995.pdb')\n",
    "p_2 = PandasPDB().read_pdb('./data/1t49_995.pdb')\n",
    "r = PandasPDB.rmsd(p_1.df['ATOM'], p_2.df['ATOM'], s='main chain', invert=False)\n",
    "print('RMSD: %.4f Angstrom' % r)"
   ]
  },
  {
   "cell_type": "markdown",
   "metadata": {},
   "source": [
    "<br>"
   ]
  },
  {
   "cell_type": "markdown",
   "metadata": {},
   "source": [
    "[more to come]"
   ]
  },
  {
   "cell_type": "markdown",
   "metadata": {},
   "source": [
    "## Wrapping it up - Saving PDB structures"
   ]
  },
  {
   "cell_type": "markdown",
   "metadata": {},
   "source": [
    "Finally, let's talk about how to get the PDB structures out of the DataFrame format back into the beloved .pdb format."
   ]
  },
  {
   "cell_type": "markdown",
   "metadata": {},
   "source": [
    "Let's say we loaded a PDB structure, removed it from it's hydrogens:"
   ]
  },
  {
   "cell_type": "code",
   "execution_count": 26,
   "metadata": {
    "collapsed": true
   },
   "outputs": [],
   "source": [
    "from biopandas.pdb import PandasPDB\n",
    "ppdb = PandasPDB().read_pdb('./data/3eiy.pdb.gz')\n",
    "ppdb.df['ATOM'] = ppdb.df['ATOM'][ppdb.df['ATOM']['element_symbol'] != 'H']"
   ]
  },
  {
   "cell_type": "markdown",
   "metadata": {},
   "source": [
    "We can save the file using the [`PandasPDB.to_pdb`](../api/biopandas.pdb#pandaspdbto_pdb) method:"
   ]
  },
  {
   "cell_type": "code",
   "execution_count": 27,
   "metadata": {
    "collapsed": false
   },
   "outputs": [],
   "source": [
    "ppdb.to_pdb(path='./data/3eiy_stripped.pdb', \n",
    "            records=None, \n",
    "            gz=False, \n",
    "            append_newline=True)"
   ]
  },
  {
   "cell_type": "markdown",
   "metadata": {},
   "source": [
    "By default, all records (that is, 'ATOM', 'HETATM', 'OTHERS', 'ANISOU') are written if we set `records=None`. Alternatively, let's say we want to get rid of the 'ANISOU' entries and produce a compressed gzip archive of our PDB structure:"
   ]
  },
  {
   "cell_type": "code",
   "execution_count": 28,
   "metadata": {
    "collapsed": false
   },
   "outputs": [],
   "source": [
    "ppdb.to_pdb(path='./data/3eiy_stripped.pdb.gz', \n",
    "            records=['ATOM', 'HETATM', 'OTHERS'], \n",
    "            gz=True, \n",
    "            append_newline=True)"
   ]
  }
 ],
 "metadata": {
  "kernelspec": {
   "display_name": "Python 3",
   "language": "python",
   "name": "python3"
  },
  "language_info": {
   "codemirror_mode": {
    "name": "ipython",
    "version": 3
   },
   "file_extension": ".py",
   "mimetype": "text/x-python",
   "name": "python",
   "nbconvert_exporter": "python",
   "pygments_lexer": "ipython3",
   "version": "3.5.0"
  }
 },
 "nbformat": 4,
 "nbformat_minor": 0
}
